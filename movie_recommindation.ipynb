{
  "cells": [
    {
      "cell_type": "markdown",
      "metadata": {},
      "source": [
        "# **Dataset**\n",
        "\n",
        "[https://www.kaggle.com/datasets/parasharmanas/movie-recommendation-system](https://www.kaggle.com/datasets/parasharmanas/movie-recommendation-system)"
      ]
    },
    {
      "cell_type": "markdown",
      "metadata": {
        "id": "FDksMpJOaYm8"
      },
      "source": [
        "# **Importing necessary libraries**\n",
        "\n",
        "Loads essential libraries (pandas, numpy, scipy.sparse, sklearn.neighbors, pickle) for data manipulation, matrix operations, and model training."
      ]
    },
    {
      "cell_type": "code",
      "execution_count": 1,
      "metadata": {
        "id": "N0kx2rh-aYCs"
      },
      "outputs": [],
      "source": [
        "import pandas as pd\n",
        "import numpy as np\n",
        "from scipy.sparse import csr_matrix\n",
        "from sklearn.neighbors import NearestNeighbors\n",
        "import pickle"
      ]
    },
    {
      "cell_type": "markdown",
      "metadata": {
        "id": "oGBU0pYVagJi"
      },
      "source": [
        "# **Reading movie and rating datasets**\n",
        "\n",
        "Loads movies.csv and ratings.csv into Pandas DataFrames."
      ]
    },
    {
      "cell_type": "code",
      "execution_count": null,
      "metadata": {
        "id": "gJs_dBUBaYCu"
      },
      "outputs": [],
      "source": [
        "movies = pd.read_csv('C:/Users/Wasseem/Desktop/project/movie recommendor/movies.csv')\n",
        "rating = pd.read_csv('C:/Users/Wasseem/Desktop/project/movie recommendor/ratings.csv')"
      ]
    },
    {
      "cell_type": "markdown",
      "metadata": {
        "id": "oK8FEAJ5ayeT"
      },
      "source": [
        "# **Exploring the movies dataset**\n",
        "\n",
        "Displays basic info, shape, and a sample movie title to understand the dataset.\n",
        "\n",
        "# **Exploring the ratings dataset**\n",
        "\n",
        "Checks for null values, dataset shape, and unique users in the ratings dataset."
      ]
    },
    {
      "cell_type": "code",
      "execution_count": null,
      "metadata": {
        "id": "AB_pp79EaYCu",
        "outputId": "5f510779-be76-4a2b-d3e4-ef3f44221991"
      },
      "outputs": [
        {
          "data": {
            "text/html": [
              "<div>\n",
              "<style scoped>\n",
              "    .dataframe tbody tr th:only-of-type {\n",
              "        vertical-align: middle;\n",
              "    }\n",
              "\n",
              "    .dataframe tbody tr th {\n",
              "        vertical-align: top;\n",
              "    }\n",
              "\n",
              "    .dataframe thead th {\n",
              "        text-align: right;\n",
              "    }\n",
              "</style>\n",
              "<table border=\"1\" class=\"dataframe\">\n",
              "  <thead>\n",
              "    <tr style=\"text-align: right;\">\n",
              "      <th></th>\n",
              "      <th>movieId</th>\n",
              "      <th>title</th>\n",
              "      <th>genres</th>\n",
              "    </tr>\n",
              "  </thead>\n",
              "  <tbody>\n",
              "    <tr>\n",
              "      <th>0</th>\n",
              "      <td>1</td>\n",
              "      <td>Toy Story (1995)</td>\n",
              "      <td>Adventure|Animation|Children|Comedy|Fantasy</td>\n",
              "    </tr>\n",
              "    <tr>\n",
              "      <th>1</th>\n",
              "      <td>2</td>\n",
              "      <td>Jumanji (1995)</td>\n",
              "      <td>Adventure|Children|Fantasy</td>\n",
              "    </tr>\n",
              "    <tr>\n",
              "      <th>2</th>\n",
              "      <td>3</td>\n",
              "      <td>Grumpier Old Men (1995)</td>\n",
              "      <td>Comedy|Romance</td>\n",
              "    </tr>\n",
              "    <tr>\n",
              "      <th>3</th>\n",
              "      <td>4</td>\n",
              "      <td>Waiting to Exhale (1995)</td>\n",
              "      <td>Comedy|Drama|Romance</td>\n",
              "    </tr>\n",
              "    <tr>\n",
              "      <th>4</th>\n",
              "      <td>5</td>\n",
              "      <td>Father of the Bride Part II (1995)</td>\n",
              "      <td>Comedy</td>\n",
              "    </tr>\n",
              "  </tbody>\n",
              "</table>\n",
              "</div>"
            ],
            "text/plain": [
              "   movieId                               title  \\\n",
              "0        1                    Toy Story (1995)   \n",
              "1        2                      Jumanji (1995)   \n",
              "2        3             Grumpier Old Men (1995)   \n",
              "3        4            Waiting to Exhale (1995)   \n",
              "4        5  Father of the Bride Part II (1995)   \n",
              "\n",
              "                                        genres  \n",
              "0  Adventure|Animation|Children|Comedy|Fantasy  \n",
              "1                   Adventure|Children|Fantasy  \n",
              "2                               Comedy|Romance  \n",
              "3                         Comedy|Drama|Romance  \n",
              "4                                       Comedy  "
            ]
          },
          "execution_count": 3,
          "metadata": {},
          "output_type": "execute_result"
        }
      ],
      "source": [
        "movies.head()"
      ]
    },
    {
      "cell_type": "code",
      "execution_count": null,
      "metadata": {
        "id": "qIQM-KoCaYCv",
        "outputId": "9e4bc33e-c8e2-4392-d7bb-bcfb29d9ff2f"
      },
      "outputs": [
        {
          "name": "stdout",
          "output_type": "stream",
          "text": [
            "<class 'pandas.core.frame.DataFrame'>\n",
            "RangeIndex: 62423 entries, 0 to 62422\n",
            "Data columns (total 3 columns):\n",
            " #   Column   Non-Null Count  Dtype \n",
            "---  ------   --------------  ----- \n",
            " 0   movieId  62423 non-null  int64 \n",
            " 1   title    62423 non-null  object\n",
            " 2   genres   62423 non-null  object\n",
            "dtypes: int64(1), object(2)\n",
            "memory usage: 1.4+ MB\n"
          ]
        }
      ],
      "source": [
        "movies.info()"
      ]
    },
    {
      "cell_type": "code",
      "execution_count": null,
      "metadata": {
        "id": "1kjL7HcGaYCv",
        "outputId": "18271806-4b2e-4519-ecbc-b1b79d8951fb"
      },
      "outputs": [
        {
          "data": {
            "text/plain": [
              "'Crossroads (2002)'"
            ]
          },
          "execution_count": 5,
          "metadata": {},
          "output_type": "execute_result"
        }
      ],
      "source": [
        "movies.iloc[5000]['title']"
      ]
    },
    {
      "cell_type": "code",
      "execution_count": null,
      "metadata": {
        "id": "3ToHNTHTaYCw",
        "outputId": "f56ff821-8d21-4636-bbcf-af945549cc17"
      },
      "outputs": [
        {
          "data": {
            "text/plain": [
              "(62423, 3)"
            ]
          },
          "execution_count": 6,
          "metadata": {},
          "output_type": "execute_result"
        }
      ],
      "source": [
        "movies.shape"
      ]
    },
    {
      "cell_type": "code",
      "execution_count": null,
      "metadata": {
        "id": "ox8vpc8raYCx",
        "outputId": "75b0e6f3-9ef3-4f34-b22e-8439a7ecde74"
      },
      "outputs": [
        {
          "name": "stdout",
          "output_type": "stream",
          "text": [
            "<class 'pandas.core.frame.DataFrame'>\n",
            "RangeIndex: 25000095 entries, 0 to 25000094\n",
            "Data columns (total 4 columns):\n",
            " #   Column     Dtype  \n",
            "---  ------     -----  \n",
            " 0   userId     int64  \n",
            " 1   movieId    int64  \n",
            " 2   rating     float64\n",
            " 3   timestamp  int64  \n",
            "dtypes: float64(1), int64(3)\n",
            "memory usage: 762.9 MB\n"
          ]
        }
      ],
      "source": [
        "rating.info()"
      ]
    },
    {
      "cell_type": "code",
      "execution_count": null,
      "metadata": {
        "id": "R3cM8Dm3aYCx",
        "outputId": "d8ee319f-4c3e-47d6-dc69-f2218e2eea80"
      },
      "outputs": [
        {
          "data": {
            "text/html": [
              "<div>\n",
              "<style scoped>\n",
              "    .dataframe tbody tr th:only-of-type {\n",
              "        vertical-align: middle;\n",
              "    }\n",
              "\n",
              "    .dataframe tbody tr th {\n",
              "        vertical-align: top;\n",
              "    }\n",
              "\n",
              "    .dataframe thead th {\n",
              "        text-align: right;\n",
              "    }\n",
              "</style>\n",
              "<table border=\"1\" class=\"dataframe\">\n",
              "  <thead>\n",
              "    <tr style=\"text-align: right;\">\n",
              "      <th></th>\n",
              "      <th>userId</th>\n",
              "      <th>movieId</th>\n",
              "      <th>rating</th>\n",
              "      <th>timestamp</th>\n",
              "    </tr>\n",
              "  </thead>\n",
              "  <tbody>\n",
              "    <tr>\n",
              "      <th>0</th>\n",
              "      <td>1</td>\n",
              "      <td>296</td>\n",
              "      <td>5.0</td>\n",
              "      <td>1147880044</td>\n",
              "    </tr>\n",
              "    <tr>\n",
              "      <th>1</th>\n",
              "      <td>1</td>\n",
              "      <td>306</td>\n",
              "      <td>3.5</td>\n",
              "      <td>1147868817</td>\n",
              "    </tr>\n",
              "    <tr>\n",
              "      <th>2</th>\n",
              "      <td>1</td>\n",
              "      <td>307</td>\n",
              "      <td>5.0</td>\n",
              "      <td>1147868828</td>\n",
              "    </tr>\n",
              "    <tr>\n",
              "      <th>3</th>\n",
              "      <td>1</td>\n",
              "      <td>665</td>\n",
              "      <td>5.0</td>\n",
              "      <td>1147878820</td>\n",
              "    </tr>\n",
              "    <tr>\n",
              "      <th>4</th>\n",
              "      <td>1</td>\n",
              "      <td>899</td>\n",
              "      <td>3.5</td>\n",
              "      <td>1147868510</td>\n",
              "    </tr>\n",
              "  </tbody>\n",
              "</table>\n",
              "</div>"
            ],
            "text/plain": [
              "   userId  movieId  rating   timestamp\n",
              "0       1      296     5.0  1147880044\n",
              "1       1      306     3.5  1147868817\n",
              "2       1      307     5.0  1147868828\n",
              "3       1      665     5.0  1147878820\n",
              "4       1      899     3.5  1147868510"
            ]
          },
          "execution_count": 8,
          "metadata": {},
          "output_type": "execute_result"
        }
      ],
      "source": [
        "rating.head()"
      ]
    },
    {
      "cell_type": "code",
      "execution_count": null,
      "metadata": {
        "id": "t2bOAPN_aYCx",
        "outputId": "535ed1b3-e031-4494-8187-f4f18dd8cb42"
      },
      "outputs": [
        {
          "data": {
            "text/plain": [
              "userId       0\n",
              "movieId      0\n",
              "rating       0\n",
              "timestamp    0\n",
              "dtype: int64"
            ]
          },
          "execution_count": 9,
          "metadata": {},
          "output_type": "execute_result"
        }
      ],
      "source": [
        "null_counts = rating.isnull().sum()\n",
        "null_counts"
      ]
    },
    {
      "cell_type": "code",
      "execution_count": null,
      "metadata": {
        "id": "r8l3SAFvaYCy",
        "outputId": "6f2e421e-7724-4780-ff2e-e134a5b3c9ae"
      },
      "outputs": [
        {
          "data": {
            "text/plain": [
              "userId\n",
              "72315     32202\n",
              "80974      9178\n",
              "137293     8913\n",
              "33844      7919\n",
              "20055      7488\n",
              "          ...  \n",
              "12094        20\n",
              "119539       20\n",
              "156759       20\n",
              "12084        20\n",
              "36207        20\n",
              "Name: count, Length: 162541, dtype: int64"
            ]
          },
          "execution_count": 10,
          "metadata": {},
          "output_type": "execute_result"
        }
      ],
      "source": [
        "rating['userId'].value_counts()"
      ]
    },
    {
      "cell_type": "code",
      "execution_count": null,
      "metadata": {
        "id": "RCM0EKOYaYCy",
        "outputId": "ce7f9d86-c675-42a7-b973-c42adbbabc7c"
      },
      "outputs": [
        {
          "data": {
            "text/plain": [
              "(162541,)"
            ]
          },
          "execution_count": 11,
          "metadata": {},
          "output_type": "execute_result"
        }
      ],
      "source": [
        "rating['userId'].unique().shape"
      ]
    },
    {
      "cell_type": "markdown",
      "metadata": {
        "id": "dsfjTeMCaptq"
      },
      "source": [
        "# **Filtering active users**\n",
        "\n",
        "Retains users with more than 200 ratings to focus on active users.\n"
      ]
    },
    {
      "cell_type": "code",
      "execution_count": null,
      "metadata": {
        "id": "JviKIhZeaYCz"
      },
      "outputs": [],
      "source": [
        "user_counts = rating['userId'].value_counts()\n",
        "active_users = user_counts[user_counts > 200].index\n",
        "rating = rating[rating['userId'].isin(active_users)]"
      ]
    },
    {
      "cell_type": "code",
      "execution_count": null,
      "metadata": {
        "id": "MKLzmsW3aYCz",
        "outputId": "1bde60e0-0ff4-4da7-b606-e577c2852adf"
      },
      "outputs": [
        {
          "data": {
            "text/plain": [
              "Index([ 72315,  80974, 137293,  33844,  20055, 109731,  92046,  49403,  30879,\n",
              "       115102,\n",
              "       ...\n",
              "        92476, 101711, 106680, 106790,  96099, 156456, 115756,   6761,  68693,\n",
              "       145404],\n",
              "      dtype='int64', name='userId', length=32848)"
            ]
          },
          "execution_count": 13,
          "metadata": {},
          "output_type": "execute_result"
        }
      ],
      "source": [
        "active_users"
      ]
    },
    {
      "cell_type": "code",
      "execution_count": null,
      "metadata": {
        "id": "huvvqkswaYCz",
        "outputId": "058d9d25-c6cc-4b99-95b4-90631755297f"
      },
      "outputs": [
        {
          "data": {
            "text/html": [
              "<div>\n",
              "<style scoped>\n",
              "    .dataframe tbody tr th:only-of-type {\n",
              "        vertical-align: middle;\n",
              "    }\n",
              "\n",
              "    .dataframe tbody tr th {\n",
              "        vertical-align: top;\n",
              "    }\n",
              "\n",
              "    .dataframe thead th {\n",
              "        text-align: right;\n",
              "    }\n",
              "</style>\n",
              "<table border=\"1\" class=\"dataframe\">\n",
              "  <thead>\n",
              "    <tr style=\"text-align: right;\">\n",
              "      <th></th>\n",
              "      <th>userId</th>\n",
              "      <th>movieId</th>\n",
              "      <th>rating</th>\n",
              "      <th>timestamp</th>\n",
              "    </tr>\n",
              "  </thead>\n",
              "  <tbody>\n",
              "    <tr>\n",
              "      <th>254</th>\n",
              "      <td>3</td>\n",
              "      <td>1</td>\n",
              "      <td>4.0</td>\n",
              "      <td>1439472215</td>\n",
              "    </tr>\n",
              "    <tr>\n",
              "      <th>255</th>\n",
              "      <td>3</td>\n",
              "      <td>29</td>\n",
              "      <td>4.5</td>\n",
              "      <td>1484754967</td>\n",
              "    </tr>\n",
              "    <tr>\n",
              "      <th>256</th>\n",
              "      <td>3</td>\n",
              "      <td>32</td>\n",
              "      <td>4.5</td>\n",
              "      <td>1439474635</td>\n",
              "    </tr>\n",
              "    <tr>\n",
              "      <th>257</th>\n",
              "      <td>3</td>\n",
              "      <td>50</td>\n",
              "      <td>5.0</td>\n",
              "      <td>1439474391</td>\n",
              "    </tr>\n",
              "    <tr>\n",
              "      <th>258</th>\n",
              "      <td>3</td>\n",
              "      <td>111</td>\n",
              "      <td>4.0</td>\n",
              "      <td>1484753849</td>\n",
              "    </tr>\n",
              "  </tbody>\n",
              "</table>\n",
              "</div>"
            ],
            "text/plain": [
              "     userId  movieId  rating   timestamp\n",
              "254       3        1     4.0  1439472215\n",
              "255       3       29     4.5  1484754967\n",
              "256       3       32     4.5  1439474635\n",
              "257       3       50     5.0  1439474391\n",
              "258       3      111     4.0  1484753849"
            ]
          },
          "execution_count": 14,
          "metadata": {},
          "output_type": "execute_result"
        }
      ],
      "source": [
        "rating.head()"
      ]
    },
    {
      "cell_type": "code",
      "execution_count": null,
      "metadata": {
        "id": "bLXV1tfoaYCz",
        "outputId": "88d24a72-aadc-4f49-f201-ccd51b28a32a"
      },
      "outputs": [
        {
          "data": {
            "text/html": [
              "<div>\n",
              "<style scoped>\n",
              "    .dataframe tbody tr th:only-of-type {\n",
              "        vertical-align: middle;\n",
              "    }\n",
              "\n",
              "    .dataframe tbody tr th {\n",
              "        vertical-align: top;\n",
              "    }\n",
              "\n",
              "    .dataframe thead th {\n",
              "        text-align: right;\n",
              "    }\n",
              "</style>\n",
              "<table border=\"1\" class=\"dataframe\">\n",
              "  <thead>\n",
              "    <tr style=\"text-align: right;\">\n",
              "      <th></th>\n",
              "      <th>userId</th>\n",
              "      <th>movieId</th>\n",
              "      <th>rating</th>\n",
              "    </tr>\n",
              "  </thead>\n",
              "  <tbody>\n",
              "    <tr>\n",
              "      <th>254</th>\n",
              "      <td>3</td>\n",
              "      <td>1</td>\n",
              "      <td>4.0</td>\n",
              "    </tr>\n",
              "    <tr>\n",
              "      <th>255</th>\n",
              "      <td>3</td>\n",
              "      <td>29</td>\n",
              "      <td>4.5</td>\n",
              "    </tr>\n",
              "    <tr>\n",
              "      <th>256</th>\n",
              "      <td>3</td>\n",
              "      <td>32</td>\n",
              "      <td>4.5</td>\n",
              "    </tr>\n",
              "    <tr>\n",
              "      <th>257</th>\n",
              "      <td>3</td>\n",
              "      <td>50</td>\n",
              "      <td>5.0</td>\n",
              "    </tr>\n",
              "    <tr>\n",
              "      <th>258</th>\n",
              "      <td>3</td>\n",
              "      <td>111</td>\n",
              "      <td>4.0</td>\n",
              "    </tr>\n",
              "  </tbody>\n",
              "</table>\n",
              "</div>"
            ],
            "text/plain": [
              "     userId  movieId  rating\n",
              "254       3        1     4.0\n",
              "255       3       29     4.5\n",
              "256       3       32     4.5\n",
              "257       3       50     5.0\n",
              "258       3      111     4.0"
            ]
          },
          "execution_count": 15,
          "metadata": {},
          "output_type": "execute_result"
        }
      ],
      "source": [
        "rating = rating[['userId','movieId', 'rating']]\n",
        "rating.head()"
      ]
    },
    {
      "cell_type": "markdown",
      "metadata": {
        "id": "zmFEfIDKa6Ci"
      },
      "source": [
        "# **Merging ratings with movies**\n",
        "\n",
        "Combines ratings with movie titles using movieId for better readability."
      ]
    },
    {
      "cell_type": "code",
      "execution_count": null,
      "metadata": {
        "id": "B06Lk5nbaYC0",
        "outputId": "59c3d99f-cd46-4b57-fd44-055cd89d6013"
      },
      "outputs": [
        {
          "data": {
            "text/html": [
              "<div>\n",
              "<style scoped>\n",
              "    .dataframe tbody tr th:only-of-type {\n",
              "        vertical-align: middle;\n",
              "    }\n",
              "\n",
              "    .dataframe tbody tr th {\n",
              "        vertical-align: top;\n",
              "    }\n",
              "\n",
              "    .dataframe thead th {\n",
              "        text-align: right;\n",
              "    }\n",
              "</style>\n",
              "<table border=\"1\" class=\"dataframe\">\n",
              "  <thead>\n",
              "    <tr style=\"text-align: right;\">\n",
              "      <th></th>\n",
              "      <th>userId</th>\n",
              "      <th>movieId</th>\n",
              "      <th>rating</th>\n",
              "      <th>title</th>\n",
              "      <th>genres</th>\n",
              "    </tr>\n",
              "  </thead>\n",
              "  <tbody>\n",
              "    <tr>\n",
              "      <th>0</th>\n",
              "      <td>3</td>\n",
              "      <td>1</td>\n",
              "      <td>4.0</td>\n",
              "      <td>Toy Story (1995)</td>\n",
              "      <td>Adventure|Animation|Children|Comedy|Fantasy</td>\n",
              "    </tr>\n",
              "    <tr>\n",
              "      <th>1</th>\n",
              "      <td>3</td>\n",
              "      <td>29</td>\n",
              "      <td>4.5</td>\n",
              "      <td>City of Lost Children, The (Cité des enfants p...</td>\n",
              "      <td>Adventure|Drama|Fantasy|Mystery|Sci-Fi</td>\n",
              "    </tr>\n",
              "    <tr>\n",
              "      <th>2</th>\n",
              "      <td>3</td>\n",
              "      <td>32</td>\n",
              "      <td>4.5</td>\n",
              "      <td>Twelve Monkeys (a.k.a. 12 Monkeys) (1995)</td>\n",
              "      <td>Mystery|Sci-Fi|Thriller</td>\n",
              "    </tr>\n",
              "    <tr>\n",
              "      <th>3</th>\n",
              "      <td>3</td>\n",
              "      <td>50</td>\n",
              "      <td>5.0</td>\n",
              "      <td>Usual Suspects, The (1995)</td>\n",
              "      <td>Crime|Mystery|Thriller</td>\n",
              "    </tr>\n",
              "    <tr>\n",
              "      <th>4</th>\n",
              "      <td>3</td>\n",
              "      <td>111</td>\n",
              "      <td>4.0</td>\n",
              "      <td>Taxi Driver (1976)</td>\n",
              "      <td>Crime|Drama|Thriller</td>\n",
              "    </tr>\n",
              "  </tbody>\n",
              "</table>\n",
              "</div>"
            ],
            "text/plain": [
              "   userId  movieId  rating                                              title  \\\n",
              "0       3        1     4.0                                   Toy Story (1995)   \n",
              "1       3       29     4.5  City of Lost Children, The (Cité des enfants p...   \n",
              "2       3       32     4.5          Twelve Monkeys (a.k.a. 12 Monkeys) (1995)   \n",
              "3       3       50     5.0                         Usual Suspects, The (1995)   \n",
              "4       3      111     4.0                                 Taxi Driver (1976)   \n",
              "\n",
              "                                        genres  \n",
              "0  Adventure|Animation|Children|Comedy|Fantasy  \n",
              "1       Adventure|Drama|Fantasy|Mystery|Sci-Fi  \n",
              "2                      Mystery|Sci-Fi|Thriller  \n",
              "3                       Crime|Mystery|Thriller  \n",
              "4                         Crime|Drama|Thriller  "
            ]
          },
          "execution_count": 16,
          "metadata": {},
          "output_type": "execute_result"
        }
      ],
      "source": [
        "ratings_with_movies = rating.merge(movies, on='movieId')\n",
        "ratings_with_movies.head()"
      ]
    },
    {
      "cell_type": "code",
      "execution_count": null,
      "metadata": {
        "id": "O4sFnXYwaYC0",
        "outputId": "c50aa98d-56ca-4149-f633-72e7eb5571d2"
      },
      "outputs": [
        {
          "data": {
            "text/plain": [
              "(16063558, 5)"
            ]
          },
          "execution_count": 17,
          "metadata": {},
          "output_type": "execute_result"
        }
      ],
      "source": [
        "ratings_with_movies.shape"
      ]
    },
    {
      "cell_type": "code",
      "execution_count": null,
      "metadata": {
        "id": "kS06EOZDaYC0"
      },
      "outputs": [],
      "source": [
        "number_rating = ratings_with_movies.groupby('movieId')['rating'].count().reset_index()\n",
        "number_rating.rename(columns={'rating': 'num_of_rating'}, inplace=True)"
      ]
    },
    {
      "cell_type": "code",
      "execution_count": null,
      "metadata": {
        "id": "GyIClca7aYC1",
        "outputId": "c8157302-9e30-43b2-ccc2-f5ad3b7f357a"
      },
      "outputs": [
        {
          "data": {
            "text/html": [
              "<div>\n",
              "<style scoped>\n",
              "    .dataframe tbody tr th:only-of-type {\n",
              "        vertical-align: middle;\n",
              "    }\n",
              "\n",
              "    .dataframe tbody tr th {\n",
              "        vertical-align: top;\n",
              "    }\n",
              "\n",
              "    .dataframe thead th {\n",
              "        text-align: right;\n",
              "    }\n",
              "</style>\n",
              "<table border=\"1\" class=\"dataframe\">\n",
              "  <thead>\n",
              "    <tr style=\"text-align: right;\">\n",
              "      <th></th>\n",
              "      <th>userId</th>\n",
              "      <th>movieId</th>\n",
              "      <th>rating</th>\n",
              "      <th>title</th>\n",
              "      <th>genres</th>\n",
              "      <th>num_of_rating</th>\n",
              "    </tr>\n",
              "  </thead>\n",
              "  <tbody>\n",
              "    <tr>\n",
              "      <th>0</th>\n",
              "      <td>3</td>\n",
              "      <td>1</td>\n",
              "      <td>4.0</td>\n",
              "      <td>Toy Story (1995)</td>\n",
              "      <td>Adventure|Animation|Children|Comedy|Fantasy</td>\n",
              "      <td>22843</td>\n",
              "    </tr>\n",
              "    <tr>\n",
              "      <th>1</th>\n",
              "      <td>3</td>\n",
              "      <td>29</td>\n",
              "      <td>4.5</td>\n",
              "      <td>City of Lost Children, The (Cité des enfants p...</td>\n",
              "      <td>Adventure|Drama|Fantasy|Mystery|Sci-Fi</td>\n",
              "      <td>4706</td>\n",
              "    </tr>\n",
              "    <tr>\n",
              "      <th>2</th>\n",
              "      <td>3</td>\n",
              "      <td>32</td>\n",
              "      <td>4.5</td>\n",
              "      <td>Twelve Monkeys (a.k.a. 12 Monkeys) (1995)</td>\n",
              "      <td>Mystery|Sci-Fi|Thriller</td>\n",
              "      <td>19421</td>\n",
              "    </tr>\n",
              "    <tr>\n",
              "      <th>3</th>\n",
              "      <td>3</td>\n",
              "      <td>50</td>\n",
              "      <td>5.0</td>\n",
              "      <td>Usual Suspects, The (1995)</td>\n",
              "      <td>Crime|Mystery|Thriller</td>\n",
              "      <td>21007</td>\n",
              "    </tr>\n",
              "    <tr>\n",
              "      <th>4</th>\n",
              "      <td>3</td>\n",
              "      <td>111</td>\n",
              "      <td>4.0</td>\n",
              "      <td>Taxi Driver (1976)</td>\n",
              "      <td>Crime|Drama|Thriller</td>\n",
              "      <td>14437</td>\n",
              "    </tr>\n",
              "  </tbody>\n",
              "</table>\n",
              "</div>"
            ],
            "text/plain": [
              "   userId  movieId  rating                                              title  \\\n",
              "0       3        1     4.0                                   Toy Story (1995)   \n",
              "1       3       29     4.5  City of Lost Children, The (Cité des enfants p...   \n",
              "2       3       32     4.5          Twelve Monkeys (a.k.a. 12 Monkeys) (1995)   \n",
              "3       3       50     5.0                         Usual Suspects, The (1995)   \n",
              "4       3      111     4.0                                 Taxi Driver (1976)   \n",
              "\n",
              "                                        genres  num_of_rating  \n",
              "0  Adventure|Animation|Children|Comedy|Fantasy          22843  \n",
              "1       Adventure|Drama|Fantasy|Mystery|Sci-Fi           4706  \n",
              "2                      Mystery|Sci-Fi|Thriller          19421  \n",
              "3                       Crime|Mystery|Thriller          21007  \n",
              "4                         Crime|Drama|Thriller          14437  "
            ]
          },
          "execution_count": 21,
          "metadata": {},
          "output_type": "execute_result"
        }
      ],
      "source": [
        "final_ratings_with_movies = ratings_with_movies.merge(number_rating, on='movieId')\n",
        "final_ratings_with_movies.head()"
      ]
    },
    {
      "cell_type": "code",
      "execution_count": null,
      "metadata": {
        "id": "bdPHborjaYC1",
        "outputId": "725ce47b-1d0c-45d2-ef6d-50afd8b90595"
      },
      "outputs": [
        {
          "data": {
            "text/plain": [
              "(16063558, 6)"
            ]
          },
          "execution_count": 22,
          "metadata": {},
          "output_type": "execute_result"
        }
      ],
      "source": [
        "final_ratings_with_movies.shape"
      ]
    },
    {
      "cell_type": "markdown",
      "metadata": {
        "id": "XzxxqD6rbB2b"
      },
      "source": [
        "# **Filtering movies with at least 5000 ratings**\n",
        "\n",
        "Ensures recommendations are based on well-rated movies."
      ]
    },
    {
      "cell_type": "code",
      "execution_count": null,
      "metadata": {
        "id": "H0iQiIgMaYC1",
        "outputId": "4f42485d-d7bf-4fa5-c2c1-4a32c8fe4d9d"
      },
      "outputs": [
        {
          "data": {
            "text/plain": [
              "(7653202, 6)"
            ]
          },
          "execution_count": 23,
          "metadata": {},
          "output_type": "execute_result"
        }
      ],
      "source": [
        "final_ratings_with_movies = final_ratings_with_movies[final_ratings_with_movies['num_of_rating'] >= 5000]\n",
        "final_ratings_with_movies.shape"
      ]
    },
    {
      "cell_type": "code",
      "execution_count": null,
      "metadata": {
        "id": "qyH0VfftaYC1",
        "outputId": "b37f3eba-8366-4a7c-c83a-cd81baaf6159"
      },
      "outputs": [
        {
          "data": {
            "text/plain": [
              "0"
            ]
          },
          "execution_count": 24,
          "metadata": {},
          "output_type": "execute_result"
        }
      ],
      "source": [
        "final_ratings_with_movies.duplicated().sum()"
      ]
    },
    {
      "cell_type": "markdown",
      "metadata": {
        "id": "n97naPQVbIQo"
      },
      "source": [
        "# **Creating a pivot table**\n",
        "\n",
        "Converts the dataset into a matrix where rows are movies, columns are users, and values are ratings (filling missing values with 0)."
      ]
    },
    {
      "cell_type": "code",
      "execution_count": null,
      "metadata": {
        "id": "XLY7iiVzaYC1"
      },
      "outputs": [],
      "source": [
        "movies_pivot = final_ratings_with_movies.pivot_table(columns='userId', index='title', values= 'rating', fill_value=0)"
      ]
    },
    {
      "cell_type": "code",
      "execution_count": null,
      "metadata": {
        "id": "1DL6nRaYaYC2",
        "outputId": "5f6c10db-6ea8-42ff-8e99-8fa66c6d31ff"
      },
      "outputs": [
        {
          "data": {
            "text/html": [
              "<div>\n",
              "<style scoped>\n",
              "    .dataframe tbody tr th:only-of-type {\n",
              "        vertical-align: middle;\n",
              "    }\n",
              "\n",
              "    .dataframe tbody tr th {\n",
              "        vertical-align: top;\n",
              "    }\n",
              "\n",
              "    .dataframe thead th {\n",
              "        text-align: right;\n",
              "    }\n",
              "</style>\n",
              "<table border=\"1\" class=\"dataframe\">\n",
              "  <thead>\n",
              "    <tr style=\"text-align: right;\">\n",
              "      <th>userId</th>\n",
              "      <th>3</th>\n",
              "      <th>4</th>\n",
              "      <th>12</th>\n",
              "      <th>13</th>\n",
              "      <th>19</th>\n",
              "      <th>23</th>\n",
              "      <th>31</th>\n",
              "      <th>38</th>\n",
              "      <th>43</th>\n",
              "      <th>57</th>\n",
              "      <th>...</th>\n",
              "      <th>162507</th>\n",
              "      <th>162508</th>\n",
              "      <th>162512</th>\n",
              "      <th>162516</th>\n",
              "      <th>162519</th>\n",
              "      <th>162521</th>\n",
              "      <th>162524</th>\n",
              "      <th>162529</th>\n",
              "      <th>162533</th>\n",
              "      <th>162534</th>\n",
              "    </tr>\n",
              "    <tr>\n",
              "      <th>title</th>\n",
              "      <th></th>\n",
              "      <th></th>\n",
              "      <th></th>\n",
              "      <th></th>\n",
              "      <th></th>\n",
              "      <th></th>\n",
              "      <th></th>\n",
              "      <th></th>\n",
              "      <th></th>\n",
              "      <th></th>\n",
              "      <th></th>\n",
              "      <th></th>\n",
              "      <th></th>\n",
              "      <th></th>\n",
              "      <th></th>\n",
              "      <th></th>\n",
              "      <th></th>\n",
              "      <th></th>\n",
              "      <th></th>\n",
              "      <th></th>\n",
              "      <th></th>\n",
              "    </tr>\n",
              "  </thead>\n",
              "  <tbody>\n",
              "    <tr>\n",
              "      <th>(500) Days of Summer (2009)</th>\n",
              "      <td>0.0</td>\n",
              "      <td>0.0</td>\n",
              "      <td>3.0</td>\n",
              "      <td>0.0</td>\n",
              "      <td>0.0</td>\n",
              "      <td>0.0</td>\n",
              "      <td>0.0</td>\n",
              "      <td>0.0</td>\n",
              "      <td>0.0</td>\n",
              "      <td>0.0</td>\n",
              "      <td>...</td>\n",
              "      <td>0.0</td>\n",
              "      <td>2.5</td>\n",
              "      <td>0.0</td>\n",
              "      <td>4.0</td>\n",
              "      <td>0.0</td>\n",
              "      <td>0.0</td>\n",
              "      <td>0.0</td>\n",
              "      <td>0.0</td>\n",
              "      <td>0.0</td>\n",
              "      <td>0.0</td>\n",
              "    </tr>\n",
              "    <tr>\n",
              "      <th>10 Things I Hate About You (1999)</th>\n",
              "      <td>0.0</td>\n",
              "      <td>0.0</td>\n",
              "      <td>3.0</td>\n",
              "      <td>0.0</td>\n",
              "      <td>0.0</td>\n",
              "      <td>0.0</td>\n",
              "      <td>0.0</td>\n",
              "      <td>0.0</td>\n",
              "      <td>0.0</td>\n",
              "      <td>0.0</td>\n",
              "      <td>...</td>\n",
              "      <td>0.0</td>\n",
              "      <td>3.0</td>\n",
              "      <td>5.0</td>\n",
              "      <td>3.5</td>\n",
              "      <td>0.0</td>\n",
              "      <td>0.0</td>\n",
              "      <td>3.0</td>\n",
              "      <td>0.0</td>\n",
              "      <td>2.5</td>\n",
              "      <td>0.0</td>\n",
              "    </tr>\n",
              "    <tr>\n",
              "      <th>101 Dalmatians (One Hundred and One Dalmatians) (1961)</th>\n",
              "      <td>0.0</td>\n",
              "      <td>0.0</td>\n",
              "      <td>0.0</td>\n",
              "      <td>0.0</td>\n",
              "      <td>0.0</td>\n",
              "      <td>0.0</td>\n",
              "      <td>0.0</td>\n",
              "      <td>0.0</td>\n",
              "      <td>0.0</td>\n",
              "      <td>3.0</td>\n",
              "      <td>...</td>\n",
              "      <td>0.0</td>\n",
              "      <td>0.0</td>\n",
              "      <td>3.0</td>\n",
              "      <td>4.0</td>\n",
              "      <td>3.0</td>\n",
              "      <td>0.0</td>\n",
              "      <td>0.0</td>\n",
              "      <td>0.0</td>\n",
              "      <td>0.0</td>\n",
              "      <td>0.0</td>\n",
              "    </tr>\n",
              "    <tr>\n",
              "      <th>12 Angry Men (1957)</th>\n",
              "      <td>0.0</td>\n",
              "      <td>0.0</td>\n",
              "      <td>0.0</td>\n",
              "      <td>0.0</td>\n",
              "      <td>0.0</td>\n",
              "      <td>5.0</td>\n",
              "      <td>4.0</td>\n",
              "      <td>0.0</td>\n",
              "      <td>0.0</td>\n",
              "      <td>4.0</td>\n",
              "      <td>...</td>\n",
              "      <td>0.0</td>\n",
              "      <td>0.0</td>\n",
              "      <td>0.0</td>\n",
              "      <td>4.5</td>\n",
              "      <td>0.0</td>\n",
              "      <td>0.0</td>\n",
              "      <td>0.0</td>\n",
              "      <td>0.0</td>\n",
              "      <td>0.0</td>\n",
              "      <td>4.5</td>\n",
              "    </tr>\n",
              "    <tr>\n",
              "      <th>2001: A Space Odyssey (1968)</th>\n",
              "      <td>5.0</td>\n",
              "      <td>4.0</td>\n",
              "      <td>0.0</td>\n",
              "      <td>3.5</td>\n",
              "      <td>5.0</td>\n",
              "      <td>4.0</td>\n",
              "      <td>1.0</td>\n",
              "      <td>0.0</td>\n",
              "      <td>3.5</td>\n",
              "      <td>0.0</td>\n",
              "      <td>...</td>\n",
              "      <td>2.0</td>\n",
              "      <td>0.0</td>\n",
              "      <td>4.0</td>\n",
              "      <td>4.5</td>\n",
              "      <td>5.0</td>\n",
              "      <td>4.0</td>\n",
              "      <td>0.0</td>\n",
              "      <td>5.0</td>\n",
              "      <td>0.0</td>\n",
              "      <td>5.0</td>\n",
              "    </tr>\n",
              "    <tr>\n",
              "      <th>...</th>\n",
              "      <td>...</td>\n",
              "      <td>...</td>\n",
              "      <td>...</td>\n",
              "      <td>...</td>\n",
              "      <td>...</td>\n",
              "      <td>...</td>\n",
              "      <td>...</td>\n",
              "      <td>...</td>\n",
              "      <td>...</td>\n",
              "      <td>...</td>\n",
              "      <td>...</td>\n",
              "      <td>...</td>\n",
              "      <td>...</td>\n",
              "      <td>...</td>\n",
              "      <td>...</td>\n",
              "      <td>...</td>\n",
              "      <td>...</td>\n",
              "      <td>...</td>\n",
              "      <td>...</td>\n",
              "      <td>...</td>\n",
              "      <td>...</td>\n",
              "    </tr>\n",
              "    <tr>\n",
              "      <th>You've Got Mail (1998)</th>\n",
              "      <td>0.0</td>\n",
              "      <td>0.0</td>\n",
              "      <td>2.0</td>\n",
              "      <td>0.0</td>\n",
              "      <td>0.0</td>\n",
              "      <td>0.0</td>\n",
              "      <td>0.0</td>\n",
              "      <td>0.0</td>\n",
              "      <td>0.0</td>\n",
              "      <td>2.0</td>\n",
              "      <td>...</td>\n",
              "      <td>0.0</td>\n",
              "      <td>0.0</td>\n",
              "      <td>0.0</td>\n",
              "      <td>2.5</td>\n",
              "      <td>0.0</td>\n",
              "      <td>0.0</td>\n",
              "      <td>0.0</td>\n",
              "      <td>0.0</td>\n",
              "      <td>0.0</td>\n",
              "      <td>0.0</td>\n",
              "    </tr>\n",
              "    <tr>\n",
              "      <th>Young Frankenstein (1974)</th>\n",
              "      <td>0.0</td>\n",
              "      <td>4.0</td>\n",
              "      <td>0.0</td>\n",
              "      <td>5.0</td>\n",
              "      <td>0.0</td>\n",
              "      <td>0.0</td>\n",
              "      <td>0.0</td>\n",
              "      <td>0.0</td>\n",
              "      <td>0.0</td>\n",
              "      <td>4.0</td>\n",
              "      <td>...</td>\n",
              "      <td>0.0</td>\n",
              "      <td>0.0</td>\n",
              "      <td>0.0</td>\n",
              "      <td>4.0</td>\n",
              "      <td>3.0</td>\n",
              "      <td>0.0</td>\n",
              "      <td>0.0</td>\n",
              "      <td>5.0</td>\n",
              "      <td>0.0</td>\n",
              "      <td>4.0</td>\n",
              "    </tr>\n",
              "    <tr>\n",
              "      <th>Zodiac (2007)</th>\n",
              "      <td>0.0</td>\n",
              "      <td>0.0</td>\n",
              "      <td>0.0</td>\n",
              "      <td>0.0</td>\n",
              "      <td>0.0</td>\n",
              "      <td>0.0</td>\n",
              "      <td>0.0</td>\n",
              "      <td>0.0</td>\n",
              "      <td>0.0</td>\n",
              "      <td>0.0</td>\n",
              "      <td>...</td>\n",
              "      <td>0.0</td>\n",
              "      <td>5.0</td>\n",
              "      <td>0.0</td>\n",
              "      <td>4.0</td>\n",
              "      <td>0.0</td>\n",
              "      <td>0.0</td>\n",
              "      <td>0.0</td>\n",
              "      <td>0.0</td>\n",
              "      <td>3.5</td>\n",
              "      <td>3.0</td>\n",
              "    </tr>\n",
              "    <tr>\n",
              "      <th>Zombieland (2009)</th>\n",
              "      <td>4.0</td>\n",
              "      <td>0.0</td>\n",
              "      <td>0.0</td>\n",
              "      <td>4.0</td>\n",
              "      <td>0.0</td>\n",
              "      <td>0.0</td>\n",
              "      <td>0.0</td>\n",
              "      <td>3.5</td>\n",
              "      <td>0.0</td>\n",
              "      <td>0.0</td>\n",
              "      <td>...</td>\n",
              "      <td>0.0</td>\n",
              "      <td>3.0</td>\n",
              "      <td>3.0</td>\n",
              "      <td>3.0</td>\n",
              "      <td>0.0</td>\n",
              "      <td>4.5</td>\n",
              "      <td>0.0</td>\n",
              "      <td>0.0</td>\n",
              "      <td>3.5</td>\n",
              "      <td>0.0</td>\n",
              "    </tr>\n",
              "    <tr>\n",
              "      <th>Zoolander (2001)</th>\n",
              "      <td>3.5</td>\n",
              "      <td>4.0</td>\n",
              "      <td>0.0</td>\n",
              "      <td>3.5</td>\n",
              "      <td>0.0</td>\n",
              "      <td>0.0</td>\n",
              "      <td>0.0</td>\n",
              "      <td>0.0</td>\n",
              "      <td>0.0</td>\n",
              "      <td>3.5</td>\n",
              "      <td>...</td>\n",
              "      <td>0.0</td>\n",
              "      <td>0.0</td>\n",
              "      <td>3.0</td>\n",
              "      <td>3.0</td>\n",
              "      <td>0.0</td>\n",
              "      <td>2.5</td>\n",
              "      <td>0.0</td>\n",
              "      <td>0.0</td>\n",
              "      <td>0.0</td>\n",
              "      <td>3.0</td>\n",
              "    </tr>\n",
              "  </tbody>\n",
              "</table>\n",
              "<p>807 rows × 32848 columns</p>\n",
              "</div>"
            ],
            "text/plain": [
              "userId                                              3       4       12      \\\n",
              "title                                                                        \n",
              "(500) Days of Summer (2009)                            0.0     0.0     3.0   \n",
              "10 Things I Hate About You (1999)                      0.0     0.0     3.0   \n",
              "101 Dalmatians (One Hundred and One Dalmatians)...     0.0     0.0     0.0   \n",
              "12 Angry Men (1957)                                    0.0     0.0     0.0   \n",
              "2001: A Space Odyssey (1968)                           5.0     4.0     0.0   \n",
              "...                                                    ...     ...     ...   \n",
              "You've Got Mail (1998)                                 0.0     0.0     2.0   \n",
              "Young Frankenstein (1974)                              0.0     4.0     0.0   \n",
              "Zodiac (2007)                                          0.0     0.0     0.0   \n",
              "Zombieland (2009)                                      4.0     0.0     0.0   \n",
              "Zoolander (2001)                                       3.5     4.0     0.0   \n",
              "\n",
              "userId                                              13      19      23      \\\n",
              "title                                                                        \n",
              "(500) Days of Summer (2009)                            0.0     0.0     0.0   \n",
              "10 Things I Hate About You (1999)                      0.0     0.0     0.0   \n",
              "101 Dalmatians (One Hundred and One Dalmatians)...     0.0     0.0     0.0   \n",
              "12 Angry Men (1957)                                    0.0     0.0     5.0   \n",
              "2001: A Space Odyssey (1968)                           3.5     5.0     4.0   \n",
              "...                                                    ...     ...     ...   \n",
              "You've Got Mail (1998)                                 0.0     0.0     0.0   \n",
              "Young Frankenstein (1974)                              5.0     0.0     0.0   \n",
              "Zodiac (2007)                                          0.0     0.0     0.0   \n",
              "Zombieland (2009)                                      4.0     0.0     0.0   \n",
              "Zoolander (2001)                                       3.5     0.0     0.0   \n",
              "\n",
              "userId                                              31      38      43      \\\n",
              "title                                                                        \n",
              "(500) Days of Summer (2009)                            0.0     0.0     0.0   \n",
              "10 Things I Hate About You (1999)                      0.0     0.0     0.0   \n",
              "101 Dalmatians (One Hundred and One Dalmatians)...     0.0     0.0     0.0   \n",
              "12 Angry Men (1957)                                    4.0     0.0     0.0   \n",
              "2001: A Space Odyssey (1968)                           1.0     0.0     3.5   \n",
              "...                                                    ...     ...     ...   \n",
              "You've Got Mail (1998)                                 0.0     0.0     0.0   \n",
              "Young Frankenstein (1974)                              0.0     0.0     0.0   \n",
              "Zodiac (2007)                                          0.0     0.0     0.0   \n",
              "Zombieland (2009)                                      0.0     3.5     0.0   \n",
              "Zoolander (2001)                                       0.0     0.0     0.0   \n",
              "\n",
              "userId                                              57      ...  162507  \\\n",
              "title                                                       ...           \n",
              "(500) Days of Summer (2009)                            0.0  ...     0.0   \n",
              "10 Things I Hate About You (1999)                      0.0  ...     0.0   \n",
              "101 Dalmatians (One Hundred and One Dalmatians)...     3.0  ...     0.0   \n",
              "12 Angry Men (1957)                                    4.0  ...     0.0   \n",
              "2001: A Space Odyssey (1968)                           0.0  ...     2.0   \n",
              "...                                                    ...  ...     ...   \n",
              "You've Got Mail (1998)                                 2.0  ...     0.0   \n",
              "Young Frankenstein (1974)                              4.0  ...     0.0   \n",
              "Zodiac (2007)                                          0.0  ...     0.0   \n",
              "Zombieland (2009)                                      0.0  ...     0.0   \n",
              "Zoolander (2001)                                       3.5  ...     0.0   \n",
              "\n",
              "userId                                              162508  162512  162516  \\\n",
              "title                                                                        \n",
              "(500) Days of Summer (2009)                            2.5     0.0     4.0   \n",
              "10 Things I Hate About You (1999)                      3.0     5.0     3.5   \n",
              "101 Dalmatians (One Hundred and One Dalmatians)...     0.0     3.0     4.0   \n",
              "12 Angry Men (1957)                                    0.0     0.0     4.5   \n",
              "2001: A Space Odyssey (1968)                           0.0     4.0     4.5   \n",
              "...                                                    ...     ...     ...   \n",
              "You've Got Mail (1998)                                 0.0     0.0     2.5   \n",
              "Young Frankenstein (1974)                              0.0     0.0     4.0   \n",
              "Zodiac (2007)                                          5.0     0.0     4.0   \n",
              "Zombieland (2009)                                      3.0     3.0     3.0   \n",
              "Zoolander (2001)                                       0.0     3.0     3.0   \n",
              "\n",
              "userId                                              162519  162521  162524  \\\n",
              "title                                                                        \n",
              "(500) Days of Summer (2009)                            0.0     0.0     0.0   \n",
              "10 Things I Hate About You (1999)                      0.0     0.0     3.0   \n",
              "101 Dalmatians (One Hundred and One Dalmatians)...     3.0     0.0     0.0   \n",
              "12 Angry Men (1957)                                    0.0     0.0     0.0   \n",
              "2001: A Space Odyssey (1968)                           5.0     4.0     0.0   \n",
              "...                                                    ...     ...     ...   \n",
              "You've Got Mail (1998)                                 0.0     0.0     0.0   \n",
              "Young Frankenstein (1974)                              3.0     0.0     0.0   \n",
              "Zodiac (2007)                                          0.0     0.0     0.0   \n",
              "Zombieland (2009)                                      0.0     4.5     0.0   \n",
              "Zoolander (2001)                                       0.0     2.5     0.0   \n",
              "\n",
              "userId                                              162529  162533  162534  \n",
              "title                                                                       \n",
              "(500) Days of Summer (2009)                            0.0     0.0     0.0  \n",
              "10 Things I Hate About You (1999)                      0.0     2.5     0.0  \n",
              "101 Dalmatians (One Hundred and One Dalmatians)...     0.0     0.0     0.0  \n",
              "12 Angry Men (1957)                                    0.0     0.0     4.5  \n",
              "2001: A Space Odyssey (1968)                           5.0     0.0     5.0  \n",
              "...                                                    ...     ...     ...  \n",
              "You've Got Mail (1998)                                 0.0     0.0     0.0  \n",
              "Young Frankenstein (1974)                              5.0     0.0     4.0  \n",
              "Zodiac (2007)                                          0.0     3.5     3.0  \n",
              "Zombieland (2009)                                      0.0     3.5     0.0  \n",
              "Zoolander (2001)                                       0.0     0.0     3.0  \n",
              "\n",
              "[807 rows x 32848 columns]"
            ]
          },
          "execution_count": 29,
          "metadata": {},
          "output_type": "execute_result"
        }
      ],
      "source": [
        "movies_pivot"
      ]
    },
    {
      "cell_type": "markdown",
      "metadata": {
        "id": "uz3VZwXDbNvp"
      },
      "source": [
        "# **Converting the pivot table to a sparse matrix**\n",
        "\n",
        "Uses csr_matrix to optimize memory usage for Nearest Neighbors computation."
      ]
    },
    {
      "cell_type": "code",
      "execution_count": null,
      "metadata": {
        "id": "ZES0CrSTaYC2"
      },
      "outputs": [],
      "source": [
        "movie__pivot_sparse = csr_matrix(movies_pivot)"
      ]
    },
    {
      "cell_type": "markdown",
      "metadata": {
        "id": "S4smPhUmbR4h"
      },
      "source": [
        "# **Training a Nearest Neighbors model**\n",
        "\n",
        "Initializes and fits a NearestNeighbors model using a brute-force algorithm."
      ]
    },
    {
      "cell_type": "code",
      "execution_count": null,
      "metadata": {
        "id": "eeOSYuEwaYC2",
        "outputId": "215a8da7-5a88-407a-da99-cf94aee9dc2d"
      },
      "outputs": [
        {
          "data": {
            "text/html": [
              "<style>#sk-container-id-1 {\n",
              "  /* Definition of color scheme common for light and dark mode */\n",
              "  --sklearn-color-text: black;\n",
              "  --sklearn-color-line: gray;\n",
              "  /* Definition of color scheme for unfitted estimators */\n",
              "  --sklearn-color-unfitted-level-0: #fff5e6;\n",
              "  --sklearn-color-unfitted-level-1: #f6e4d2;\n",
              "  --sklearn-color-unfitted-level-2: #ffe0b3;\n",
              "  --sklearn-color-unfitted-level-3: chocolate;\n",
              "  /* Definition of color scheme for fitted estimators */\n",
              "  --sklearn-color-fitted-level-0: #f0f8ff;\n",
              "  --sklearn-color-fitted-level-1: #d4ebff;\n",
              "  --sklearn-color-fitted-level-2: #b3dbfd;\n",
              "  --sklearn-color-fitted-level-3: cornflowerblue;\n",
              "\n",
              "  /* Specific color for light theme */\n",
              "  --sklearn-color-text-on-default-background: var(--sg-text-color, var(--theme-code-foreground, var(--jp-content-font-color1, black)));\n",
              "  --sklearn-color-background: var(--sg-background-color, var(--theme-background, var(--jp-layout-color0, white)));\n",
              "  --sklearn-color-border-box: var(--sg-text-color, var(--theme-code-foreground, var(--jp-content-font-color1, black)));\n",
              "  --sklearn-color-icon: #696969;\n",
              "\n",
              "  @media (prefers-color-scheme: dark) {\n",
              "    /* Redefinition of color scheme for dark theme */\n",
              "    --sklearn-color-text-on-default-background: var(--sg-text-color, var(--theme-code-foreground, var(--jp-content-font-color1, white)));\n",
              "    --sklearn-color-background: var(--sg-background-color, var(--theme-background, var(--jp-layout-color0, #111)));\n",
              "    --sklearn-color-border-box: var(--sg-text-color, var(--theme-code-foreground, var(--jp-content-font-color1, white)));\n",
              "    --sklearn-color-icon: #878787;\n",
              "  }\n",
              "}\n",
              "\n",
              "#sk-container-id-1 {\n",
              "  color: var(--sklearn-color-text);\n",
              "}\n",
              "\n",
              "#sk-container-id-1 pre {\n",
              "  padding: 0;\n",
              "}\n",
              "\n",
              "#sk-container-id-1 input.sk-hidden--visually {\n",
              "  border: 0;\n",
              "  clip: rect(1px 1px 1px 1px);\n",
              "  clip: rect(1px, 1px, 1px, 1px);\n",
              "  height: 1px;\n",
              "  margin: -1px;\n",
              "  overflow: hidden;\n",
              "  padding: 0;\n",
              "  position: absolute;\n",
              "  width: 1px;\n",
              "}\n",
              "\n",
              "#sk-container-id-1 div.sk-dashed-wrapped {\n",
              "  border: 1px dashed var(--sklearn-color-line);\n",
              "  margin: 0 0.4em 0.5em 0.4em;\n",
              "  box-sizing: border-box;\n",
              "  padding-bottom: 0.4em;\n",
              "  background-color: var(--sklearn-color-background);\n",
              "}\n",
              "\n",
              "#sk-container-id-1 div.sk-container {\n",
              "  /* jupyter's `normalize.less` sets `[hidden] { display: none; }`\n",
              "     but bootstrap.min.css set `[hidden] { display: none !important; }`\n",
              "     so we also need the `!important` here to be able to override the\n",
              "     default hidden behavior on the sphinx rendered scikit-learn.org.\n",
              "     See: https://github.com/scikit-learn/scikit-learn/issues/21755 */\n",
              "  display: inline-block !important;\n",
              "  position: relative;\n",
              "}\n",
              "\n",
              "#sk-container-id-1 div.sk-text-repr-fallback {\n",
              "  display: none;\n",
              "}\n",
              "\n",
              "div.sk-parallel-item,\n",
              "div.sk-serial,\n",
              "div.sk-item {\n",
              "  /* draw centered vertical line to link estimators */\n",
              "  background-image: linear-gradient(var(--sklearn-color-text-on-default-background), var(--sklearn-color-text-on-default-background));\n",
              "  background-size: 2px 100%;\n",
              "  background-repeat: no-repeat;\n",
              "  background-position: center center;\n",
              "}\n",
              "\n",
              "/* Parallel-specific style estimator block */\n",
              "\n",
              "#sk-container-id-1 div.sk-parallel-item::after {\n",
              "  content: \"\";\n",
              "  width: 100%;\n",
              "  border-bottom: 2px solid var(--sklearn-color-text-on-default-background);\n",
              "  flex-grow: 1;\n",
              "}\n",
              "\n",
              "#sk-container-id-1 div.sk-parallel {\n",
              "  display: flex;\n",
              "  align-items: stretch;\n",
              "  justify-content: center;\n",
              "  background-color: var(--sklearn-color-background);\n",
              "  position: relative;\n",
              "}\n",
              "\n",
              "#sk-container-id-1 div.sk-parallel-item {\n",
              "  display: flex;\n",
              "  flex-direction: column;\n",
              "}\n",
              "\n",
              "#sk-container-id-1 div.sk-parallel-item:first-child::after {\n",
              "  align-self: flex-end;\n",
              "  width: 50%;\n",
              "}\n",
              "\n",
              "#sk-container-id-1 div.sk-parallel-item:last-child::after {\n",
              "  align-self: flex-start;\n",
              "  width: 50%;\n",
              "}\n",
              "\n",
              "#sk-container-id-1 div.sk-parallel-item:only-child::after {\n",
              "  width: 0;\n",
              "}\n",
              "\n",
              "/* Serial-specific style estimator block */\n",
              "\n",
              "#sk-container-id-1 div.sk-serial {\n",
              "  display: flex;\n",
              "  flex-direction: column;\n",
              "  align-items: center;\n",
              "  background-color: var(--sklearn-color-background);\n",
              "  padding-right: 1em;\n",
              "  padding-left: 1em;\n",
              "}\n",
              "\n",
              "\n",
              "/* Toggleable style: style used for estimator/Pipeline/ColumnTransformer box that is\n",
              "clickable and can be expanded/collapsed.\n",
              "- Pipeline and ColumnTransformer use this feature and define the default style\n",
              "- Estimators will overwrite some part of the style using the `sk-estimator` class\n",
              "*/\n",
              "\n",
              "/* Pipeline and ColumnTransformer style (default) */\n",
              "\n",
              "#sk-container-id-1 div.sk-toggleable {\n",
              "  /* Default theme specific background. It is overwritten whether we have a\n",
              "  specific estimator or a Pipeline/ColumnTransformer */\n",
              "  background-color: var(--sklearn-color-background);\n",
              "}\n",
              "\n",
              "/* Toggleable label */\n",
              "#sk-container-id-1 label.sk-toggleable__label {\n",
              "  cursor: pointer;\n",
              "  display: block;\n",
              "  width: 100%;\n",
              "  margin-bottom: 0;\n",
              "  padding: 0.5em;\n",
              "  box-sizing: border-box;\n",
              "  text-align: center;\n",
              "}\n",
              "\n",
              "#sk-container-id-1 label.sk-toggleable__label-arrow:before {\n",
              "  /* Arrow on the left of the label */\n",
              "  content: \"▸\";\n",
              "  float: left;\n",
              "  margin-right: 0.25em;\n",
              "  color: var(--sklearn-color-icon);\n",
              "}\n",
              "\n",
              "#sk-container-id-1 label.sk-toggleable__label-arrow:hover:before {\n",
              "  color: var(--sklearn-color-text);\n",
              "}\n",
              "\n",
              "/* Toggleable content - dropdown */\n",
              "\n",
              "#sk-container-id-1 div.sk-toggleable__content {\n",
              "  max-height: 0;\n",
              "  max-width: 0;\n",
              "  overflow: hidden;\n",
              "  text-align: left;\n",
              "  /* unfitted */\n",
              "  background-color: var(--sklearn-color-unfitted-level-0);\n",
              "}\n",
              "\n",
              "#sk-container-id-1 div.sk-toggleable__content.fitted {\n",
              "  /* fitted */\n",
              "  background-color: var(--sklearn-color-fitted-level-0);\n",
              "}\n",
              "\n",
              "#sk-container-id-1 div.sk-toggleable__content pre {\n",
              "  margin: 0.2em;\n",
              "  border-radius: 0.25em;\n",
              "  color: var(--sklearn-color-text);\n",
              "  /* unfitted */\n",
              "  background-color: var(--sklearn-color-unfitted-level-0);\n",
              "}\n",
              "\n",
              "#sk-container-id-1 div.sk-toggleable__content.fitted pre {\n",
              "  /* unfitted */\n",
              "  background-color: var(--sklearn-color-fitted-level-0);\n",
              "}\n",
              "\n",
              "#sk-container-id-1 input.sk-toggleable__control:checked~div.sk-toggleable__content {\n",
              "  /* Expand drop-down */\n",
              "  max-height: 200px;\n",
              "  max-width: 100%;\n",
              "  overflow: auto;\n",
              "}\n",
              "\n",
              "#sk-container-id-1 input.sk-toggleable__control:checked~label.sk-toggleable__label-arrow:before {\n",
              "  content: \"▾\";\n",
              "}\n",
              "\n",
              "/* Pipeline/ColumnTransformer-specific style */\n",
              "\n",
              "#sk-container-id-1 div.sk-label input.sk-toggleable__control:checked~label.sk-toggleable__label {\n",
              "  color: var(--sklearn-color-text);\n",
              "  background-color: var(--sklearn-color-unfitted-level-2);\n",
              "}\n",
              "\n",
              "#sk-container-id-1 div.sk-label.fitted input.sk-toggleable__control:checked~label.sk-toggleable__label {\n",
              "  background-color: var(--sklearn-color-fitted-level-2);\n",
              "}\n",
              "\n",
              "/* Estimator-specific style */\n",
              "\n",
              "/* Colorize estimator box */\n",
              "#sk-container-id-1 div.sk-estimator input.sk-toggleable__control:checked~label.sk-toggleable__label {\n",
              "  /* unfitted */\n",
              "  background-color: var(--sklearn-color-unfitted-level-2);\n",
              "}\n",
              "\n",
              "#sk-container-id-1 div.sk-estimator.fitted input.sk-toggleable__control:checked~label.sk-toggleable__label {\n",
              "  /* fitted */\n",
              "  background-color: var(--sklearn-color-fitted-level-2);\n",
              "}\n",
              "\n",
              "#sk-container-id-1 div.sk-label label.sk-toggleable__label,\n",
              "#sk-container-id-1 div.sk-label label {\n",
              "  /* The background is the default theme color */\n",
              "  color: var(--sklearn-color-text-on-default-background);\n",
              "}\n",
              "\n",
              "/* On hover, darken the color of the background */\n",
              "#sk-container-id-1 div.sk-label:hover label.sk-toggleable__label {\n",
              "  color: var(--sklearn-color-text);\n",
              "  background-color: var(--sklearn-color-unfitted-level-2);\n",
              "}\n",
              "\n",
              "/* Label box, darken color on hover, fitted */\n",
              "#sk-container-id-1 div.sk-label.fitted:hover label.sk-toggleable__label.fitted {\n",
              "  color: var(--sklearn-color-text);\n",
              "  background-color: var(--sklearn-color-fitted-level-2);\n",
              "}\n",
              "\n",
              "/* Estimator label */\n",
              "\n",
              "#sk-container-id-1 div.sk-label label {\n",
              "  font-family: monospace;\n",
              "  font-weight: bold;\n",
              "  display: inline-block;\n",
              "  line-height: 1.2em;\n",
              "}\n",
              "\n",
              "#sk-container-id-1 div.sk-label-container {\n",
              "  text-align: center;\n",
              "}\n",
              "\n",
              "/* Estimator-specific */\n",
              "#sk-container-id-1 div.sk-estimator {\n",
              "  font-family: monospace;\n",
              "  border: 1px dotted var(--sklearn-color-border-box);\n",
              "  border-radius: 0.25em;\n",
              "  box-sizing: border-box;\n",
              "  margin-bottom: 0.5em;\n",
              "  /* unfitted */\n",
              "  background-color: var(--sklearn-color-unfitted-level-0);\n",
              "}\n",
              "\n",
              "#sk-container-id-1 div.sk-estimator.fitted {\n",
              "  /* fitted */\n",
              "  background-color: var(--sklearn-color-fitted-level-0);\n",
              "}\n",
              "\n",
              "/* on hover */\n",
              "#sk-container-id-1 div.sk-estimator:hover {\n",
              "  /* unfitted */\n",
              "  background-color: var(--sklearn-color-unfitted-level-2);\n",
              "}\n",
              "\n",
              "#sk-container-id-1 div.sk-estimator.fitted:hover {\n",
              "  /* fitted */\n",
              "  background-color: var(--sklearn-color-fitted-level-2);\n",
              "}\n",
              "\n",
              "/* Specification for estimator info (e.g. \"i\" and \"?\") */\n",
              "\n",
              "/* Common style for \"i\" and \"?\" */\n",
              "\n",
              ".sk-estimator-doc-link,\n",
              "a:link.sk-estimator-doc-link,\n",
              "a:visited.sk-estimator-doc-link {\n",
              "  float: right;\n",
              "  font-size: smaller;\n",
              "  line-height: 1em;\n",
              "  font-family: monospace;\n",
              "  background-color: var(--sklearn-color-background);\n",
              "  border-radius: 1em;\n",
              "  height: 1em;\n",
              "  width: 1em;\n",
              "  text-decoration: none !important;\n",
              "  margin-left: 1ex;\n",
              "  /* unfitted */\n",
              "  border: var(--sklearn-color-unfitted-level-1) 1pt solid;\n",
              "  color: var(--sklearn-color-unfitted-level-1);\n",
              "}\n",
              "\n",
              ".sk-estimator-doc-link.fitted,\n",
              "a:link.sk-estimator-doc-link.fitted,\n",
              "a:visited.sk-estimator-doc-link.fitted {\n",
              "  /* fitted */\n",
              "  border: var(--sklearn-color-fitted-level-1) 1pt solid;\n",
              "  color: var(--sklearn-color-fitted-level-1);\n",
              "}\n",
              "\n",
              "/* On hover */\n",
              "div.sk-estimator:hover .sk-estimator-doc-link:hover,\n",
              ".sk-estimator-doc-link:hover,\n",
              "div.sk-label-container:hover .sk-estimator-doc-link:hover,\n",
              ".sk-estimator-doc-link:hover {\n",
              "  /* unfitted */\n",
              "  background-color: var(--sklearn-color-unfitted-level-3);\n",
              "  color: var(--sklearn-color-background);\n",
              "  text-decoration: none;\n",
              "}\n",
              "\n",
              "div.sk-estimator.fitted:hover .sk-estimator-doc-link.fitted:hover,\n",
              ".sk-estimator-doc-link.fitted:hover,\n",
              "div.sk-label-container:hover .sk-estimator-doc-link.fitted:hover,\n",
              ".sk-estimator-doc-link.fitted:hover {\n",
              "  /* fitted */\n",
              "  background-color: var(--sklearn-color-fitted-level-3);\n",
              "  color: var(--sklearn-color-background);\n",
              "  text-decoration: none;\n",
              "}\n",
              "\n",
              "/* Span, style for the box shown on hovering the info icon */\n",
              ".sk-estimator-doc-link span {\n",
              "  display: none;\n",
              "  z-index: 9999;\n",
              "  position: relative;\n",
              "  font-weight: normal;\n",
              "  right: .2ex;\n",
              "  padding: .5ex;\n",
              "  margin: .5ex;\n",
              "  width: min-content;\n",
              "  min-width: 20ex;\n",
              "  max-width: 50ex;\n",
              "  color: var(--sklearn-color-text);\n",
              "  box-shadow: 2pt 2pt 4pt #999;\n",
              "  /* unfitted */\n",
              "  background: var(--sklearn-color-unfitted-level-0);\n",
              "  border: .5pt solid var(--sklearn-color-unfitted-level-3);\n",
              "}\n",
              "\n",
              ".sk-estimator-doc-link.fitted span {\n",
              "  /* fitted */\n",
              "  background: var(--sklearn-color-fitted-level-0);\n",
              "  border: var(--sklearn-color-fitted-level-3);\n",
              "}\n",
              "\n",
              ".sk-estimator-doc-link:hover span {\n",
              "  display: block;\n",
              "}\n",
              "\n",
              "/* \"?\"-specific style due to the `<a>` HTML tag */\n",
              "\n",
              "#sk-container-id-1 a.estimator_doc_link {\n",
              "  float: right;\n",
              "  font-size: 1rem;\n",
              "  line-height: 1em;\n",
              "  font-family: monospace;\n",
              "  background-color: var(--sklearn-color-background);\n",
              "  border-radius: 1rem;\n",
              "  height: 1rem;\n",
              "  width: 1rem;\n",
              "  text-decoration: none;\n",
              "  /* unfitted */\n",
              "  color: var(--sklearn-color-unfitted-level-1);\n",
              "  border: var(--sklearn-color-unfitted-level-1) 1pt solid;\n",
              "}\n",
              "\n",
              "#sk-container-id-1 a.estimator_doc_link.fitted {\n",
              "  /* fitted */\n",
              "  border: var(--sklearn-color-fitted-level-1) 1pt solid;\n",
              "  color: var(--sklearn-color-fitted-level-1);\n",
              "}\n",
              "\n",
              "/* On hover */\n",
              "#sk-container-id-1 a.estimator_doc_link:hover {\n",
              "  /* unfitted */\n",
              "  background-color: var(--sklearn-color-unfitted-level-3);\n",
              "  color: var(--sklearn-color-background);\n",
              "  text-decoration: none;\n",
              "}\n",
              "\n",
              "#sk-container-id-1 a.estimator_doc_link.fitted:hover {\n",
              "  /* fitted */\n",
              "  background-color: var(--sklearn-color-fitted-level-3);\n",
              "}\n",
              "</style><div id=\"sk-container-id-1\" class=\"sk-top-container\"><div class=\"sk-text-repr-fallback\"><pre>NearestNeighbors(algorithm=&#x27;brute&#x27;)</pre><b>In a Jupyter environment, please rerun this cell to show the HTML representation or trust the notebook. <br />On GitHub, the HTML representation is unable to render, please try loading this page with nbviewer.org.</b></div><div class=\"sk-container\" hidden><div class=\"sk-item\"><div class=\"sk-estimator fitted sk-toggleable\"><input class=\"sk-toggleable__control sk-hidden--visually\" id=\"sk-estimator-id-1\" type=\"checkbox\" checked><label for=\"sk-estimator-id-1\" class=\"sk-toggleable__label fitted sk-toggleable__label-arrow fitted\">&nbsp;&nbsp;NearestNeighbors<a class=\"sk-estimator-doc-link fitted\" rel=\"noreferrer\" target=\"_blank\" href=\"https://scikit-learn.org/1.5/modules/generated/sklearn.neighbors.NearestNeighbors.html\">?<span>Documentation for NearestNeighbors</span></a><span class=\"sk-estimator-doc-link fitted\">i<span>Fitted</span></span></label><div class=\"sk-toggleable__content fitted\"><pre>NearestNeighbors(algorithm=&#x27;brute&#x27;)</pre></div> </div></div></div></div>"
            ],
            "text/plain": [
              "NearestNeighbors(algorithm='brute')"
            ]
          },
          "execution_count": 31,
          "metadata": {},
          "output_type": "execute_result"
        }
      ],
      "source": [
        "movie_recommindor = NearestNeighbors(algorithm= 'brute')\n",
        "movie_recommindor.fit(movie__pivot_sparse)"
      ]
    },
    {
      "cell_type": "markdown",
      "metadata": {
        "id": "M4xSFTiWbYEm"
      },
      "source": [
        "## **Finding similar movies for \"Spider-Man (2002)\"**\n",
        "\n",
        "Retrieves recommendations by computing nearest neighbors based on user rating patterns.\n",
        "\n",
        "## **Finding similar movies for \"Batman Begins (2005)\"**\n",
        "\n",
        "Repeats the recommendation process for a different movie."
      ]
    },
    {
      "cell_type": "code",
      "execution_count": null,
      "metadata": {
        "id": "cmJdCFSRaYC2",
        "outputId": "75c9cbd9-5c73-43ee-fb08-a778b9d73140"
      },
      "outputs": [
        {
          "data": {
            "text/plain": [
              "669"
            ]
          },
          "execution_count": 32,
          "metadata": {},
          "output_type": "execute_result"
        }
      ],
      "source": [
        "movie_name = \"Spider-Man (2002)\"\n",
        "movie_index = movies_pivot.index.get_loc(movie_name)\n",
        "movie_index"
      ]
    },
    {
      "cell_type": "code",
      "execution_count": null,
      "metadata": {
        "id": "2PhQ7W2PaYC2"
      },
      "outputs": [],
      "source": [
        "distance, suggestion = movie_recommindor.kneighbors(movies_pivot.iloc[669,:].values.reshape(1,-1), n_neighbors=6 )\n"
      ]
    },
    {
      "cell_type": "code",
      "execution_count": null,
      "metadata": {
        "id": "kZQFKGnJaYC2",
        "outputId": "1e8e0d23-68b9-4265-a7e0-070e3ba8ea49"
      },
      "outputs": [
        {
          "data": {
            "text/plain": [
              "array([[  0.        , 291.03693924, 332.73788483, 333.58619576,\n",
              "        342.36019044, 345.56620205]])"
            ]
          },
          "execution_count": 34,
          "metadata": {},
          "output_type": "execute_result"
        }
      ],
      "source": [
        "distance"
      ]
    },
    {
      "cell_type": "code",
      "execution_count": null,
      "metadata": {
        "id": "DUSQEX37aYC3",
        "outputId": "8190ad16-771f-47e3-91e7-d35afaecf0d2"
      },
      "outputs": [
        {
          "data": {
            "text/plain": [
              "array([[669, 670, 796, 801, 685, 557]], dtype=int64)"
            ]
          },
          "execution_count": 35,
          "metadata": {},
          "output_type": "execute_result"
        }
      ],
      "source": [
        "suggestion"
      ]
    },
    {
      "cell_type": "code",
      "execution_count": null,
      "metadata": {
        "id": "P37JgbX9aYC3",
        "outputId": "fc61eeb4-c512-446d-8bbc-ff721fb51fd2"
      },
      "outputs": [
        {
          "name": "stdout",
          "output_type": "stream",
          "text": [
            "Index(['Spider-Man (2002)', 'Spider-Man 2 (2004)', 'X-Men (2000)',\n",
            "       'X2: X-Men United (2003)',\n",
            "       'Star Wars: Episode II - Attack of the Clones (2002)',\n",
            "       'Pirates of the Caribbean: The Curse of the Black Pearl (2003)'],\n",
            "      dtype='object', name='title')\n"
          ]
        }
      ],
      "source": [
        "for i in range(len(suggestion)):\n",
        "    print(movies_pivot.index[suggestion[i]])\n"
      ]
    },
    {
      "cell_type": "code",
      "execution_count": null,
      "metadata": {
        "id": "ozi35EfgaYC3",
        "outputId": "f8dd7747-b8de-4132-c430-86879a95628f"
      },
      "outputs": [
        {
          "data": {
            "text/plain": [
              "70"
            ]
          },
          "execution_count": 37,
          "metadata": {},
          "output_type": "execute_result"
        }
      ],
      "source": [
        "movie_name = \"Batman Begins (2005)\"  # Replace with the movie title you are looking for\n",
        "movie_index = movies_pivot.index.get_loc(movie_name)\n",
        "movie_index"
      ]
    },
    {
      "cell_type": "code",
      "execution_count": null,
      "metadata": {
        "id": "sAaF27I2aYC3"
      },
      "outputs": [],
      "source": [
        "distance, suggestion = movie_recommindor.kneighbors(movies_pivot.iloc[70,:].values.reshape(1,-1), n_neighbors=6 )"
      ]
    },
    {
      "cell_type": "code",
      "execution_count": null,
      "metadata": {
        "id": "as7D-MooaYC3",
        "outputId": "f8b6ced6-591b-457a-e515-097b93f23d57"
      },
      "outputs": [
        {
          "data": {
            "text/plain": [
              "array([[  0.        , 318.77382264, 341.76161282, 344.11662267,\n",
              "        354.11615326, 355.77907471]])"
            ]
          },
          "execution_count": 39,
          "metadata": {},
          "output_type": "execute_result"
        }
      ],
      "source": [
        "distance"
      ]
    },
    {
      "cell_type": "code",
      "execution_count": null,
      "metadata": {
        "id": "mau4_B1FaYC4",
        "outputId": "1117e814-6bbe-4727-e74e-663552807cc3"
      },
      "outputs": [
        {
          "name": "stdout",
          "output_type": "stream",
          "text": [
            "Index(['Batman Begins (2005)', 'Dark Knight, The (2008)', 'Iron Man (2008)',\n",
            "       'V for Vendetta (2006)', 'Casino Royale (2006)', 'Spider-Man 2 (2004)'],\n",
            "      dtype='object', name='title')\n"
          ]
        }
      ],
      "source": [
        "for i in range(len(suggestion)):\n",
        "    print(movies_pivot.index[suggestion[i]])"
      ]
    },
    {
      "cell_type": "markdown",
      "metadata": {
        "id": "bDczdCJ9bihi"
      },
      "source": [
        "# **Defining a function for movie recommendations**\n",
        "\n",
        "movie_recommindation(movie_name, number_of_movies) finds and prints recommendations for a given movie."
      ]
    },
    {
      "cell_type": "code",
      "execution_count": null,
      "metadata": {
        "id": "u5p3pvbbaYC4"
      },
      "outputs": [],
      "source": [
        "def movie_recommindation(movie_name,number_of_movies):\n",
        "    movie_id = np.where(movies_pivot.index == movie_name)[0][0]\n",
        "    _ , suggestion = movie_recommindor.kneighbors(movies_pivot.iloc[movie_id,:].values.reshape(1,-1), n_neighbors=number_of_movies )\n",
        "\n",
        "    for i in range(len(suggestion)):\n",
        "            movies = movies_pivot.index[suggestion[i]]\n",
        "            for i,movie in enumerate(movies):\n",
        "                if i == 0:\n",
        "                    print(f\"You selected '{movie_name}'\\n\")\n",
        "                    print(\"The suggestion movies are: \\n\")\n",
        "                else:\n",
        "                    print(movie)"
      ]
    },
    {
      "cell_type": "markdown",
      "metadata": {
        "id": "jPr2cawrbonh"
      },
      "source": [
        "# **Testing the recommendation function**\n",
        "\n",
        "Calls the function for \"Batman Begins (2005)\" and \"Spider-Man (2002)\"."
      ]
    },
    {
      "cell_type": "code",
      "execution_count": null,
      "metadata": {
        "id": "KsDheaswaYC4",
        "outputId": "e1fbfcf6-0ac8-47d4-9d03-0d1e2cd92820"
      },
      "outputs": [
        {
          "name": "stdout",
          "output_type": "stream",
          "text": [
            "You selected 'Batman Begins (2005)'\n",
            "\n",
            "The suggestion movies are: \n",
            "\n",
            "Dark Knight, The (2008)\n",
            "Iron Man (2008)\n",
            "V for Vendetta (2006)\n",
            "Casino Royale (2006)\n",
            "Spider-Man 2 (2004)\n"
          ]
        }
      ],
      "source": [
        "movie_name = \"Batman Begins (2005)\"\n",
        "movie_recommindation(movie_name,6)"
      ]
    },
    {
      "cell_type": "code",
      "execution_count": null,
      "metadata": {
        "id": "GiyLZK6maYC4",
        "outputId": "2fce03e5-7699-4ab3-e9e2-6674b8954c72"
      },
      "outputs": [
        {
          "name": "stdout",
          "output_type": "stream",
          "text": [
            "You selected 'Spider-Man (2002)'\n",
            "\n",
            "The suggestion movies are: \n",
            "\n",
            "Spider-Man 2 (2004)\n",
            "X-Men (2000)\n",
            "X2: X-Men United (2003)\n",
            "Star Wars: Episode II - Attack of the Clones (2002)\n",
            "Pirates of the Caribbean: The Curse of the Black Pearl (2003)\n",
            "Matrix Reloaded, The (2003)\n"
          ]
        }
      ],
      "source": [
        "movie_name = \"Spider-Man (2002)\"\n",
        "movie_recommindation(movie_name,7)"
      ]
    },
    {
      "cell_type": "markdown",
      "metadata": {
        "id": "cr7Vr47Jbv2w"
      },
      "source": [
        "# **Saving models and processed data using pickle**\n",
        "\n",
        "Serializes and saves the trained model, final ratings dataset, pivot table, and movie names for later use."
      ]
    },
    {
      "cell_type": "code",
      "execution_count": null,
      "metadata": {
        "id": "XLVU-LNaaYC4"
      },
      "outputs": [],
      "source": [
        "pickle.dump(movie_recommindor,open('C:/Users/Wasseem/Desktop/project/movie recommendor/saved/model.pkl','wb'))\n",
        "pickle.dump(final_ratings_with_movies,open('C:/Users/Wasseem/Desktop/project/movie recommendor/saved/final_rating.pkl','wb'))\n",
        "pickle.dump(movies_pivot,open('C:/Users/Wasseem/Desktop/project/movie recommendor/saved/movies_pivot.pkl','wb'))"
      ]
    },
    {
      "cell_type": "code",
      "execution_count": null,
      "metadata": {
        "id": "EGzR4gUwaYC9"
      },
      "outputs": [],
      "source": [
        "movie_names = movies_pivot.index"
      ]
    },
    {
      "cell_type": "code",
      "execution_count": null,
      "metadata": {
        "id": "G3Cfh5JQaYC9",
        "outputId": "13e477ee-caea-4b75-bf12-b1af2a391f42"
      },
      "outputs": [
        {
          "data": {
            "text/plain": [
              "'Batman Begins (2005)'"
            ]
          },
          "execution_count": 119,
          "metadata": {},
          "output_type": "execute_result"
        }
      ],
      "source": [
        "movie_names[70]"
      ]
    },
    {
      "cell_type": "code",
      "execution_count": null,
      "metadata": {
        "id": "iI09mEpRaYC9"
      },
      "outputs": [],
      "source": [
        "pickle.dump(movie_names,open('C:/Users/Wasseem/Desktop/project/movie recommendor/saved/movie_names.pkl','wb'))"
      ]
    }
  ],
  "metadata": {
    "colab": {
      "provenance": []
    },
    "kernelspec": {
      "display_name": "Python 3",
      "language": "python",
      "name": "python3"
    },
    "language_info": {
      "codemirror_mode": {
        "name": "ipython",
        "version": 3
      },
      "file_extension": ".py",
      "mimetype": "text/x-python",
      "name": "python",
      "nbconvert_exporter": "python",
      "pygments_lexer": "ipython3",
      "version": "3.11.2"
    }
  },
  "nbformat": 4,
  "nbformat_minor": 0
}
